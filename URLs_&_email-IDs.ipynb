{
 "cells": [
  {
   "cell_type": "code",
   "execution_count": 1,
   "metadata": {},
   "outputs": [],
   "source": [
    "# import libraries\n",
    "\n",
    "import urllib.request\n",
    "from bs4 import BeautifulSoup"
   ]
  },
  {
   "cell_type": "code",
   "execution_count": 6,
   "metadata": {},
   "outputs": [],
   "source": [
    "# target URL for scraping\n",
    "wiki = \"https://www.nc.gov/employee-directory?nameFirst=john&nameLast=&Agency=&Division=&section=\""
   ]
  },
  {
   "cell_type": "code",
   "execution_count": 15,
   "metadata": {},
   "outputs": [],
   "source": [
    "# Query website extract htmp into 'page'\n",
    "page = urllib.request.urlopen(wiki)"
   ]
  },
  {
   "cell_type": "code",
   "execution_count": 16,
   "metadata": {},
   "outputs": [
    {
     "name": "stdout",
     "output_type": "stream",
     "text": [
      "\n",
      "\n",
      "Details of webpage scraped:\n",
      "\n",
      "\n",
      "\n",
      "\n",
      "Title of the Page\n",
      "\n",
      "\n",
      "Employee Directory | NC.gov\n"
     ]
    }
   ],
   "source": [
    "# parse html in 'page' and convert for BeautifulSoup\n",
    "soup = BeautifulSoup(page, features='html.parser')\n",
    "\n",
    "print('\\n\\nDetails of webpage scraped:\\n\\n')\n",
    "print('\\n\\nTitle of the Page\\n\\n')\n",
    "print(soup.title.string)"
   ]
  },
  {
   "cell_type": "code",
   "execution_count": 17,
   "metadata": {},
   "outputs": [
    {
     "name": "stdout",
     "output_type": "stream",
     "text": [
      "\n",
      "\n",
      "URLs from the Webpage\n",
      "\n",
      "\n",
      "Total number of URLs present = 97\n",
      "\n",
      "\n",
      "Last 5 URLs on the webpage are:\n",
      "\n",
      "\n",
      "/accessibility\n",
      "/terms\n",
      "/privacy\n",
      "/government/open-budget\n",
      "https://www.nc.gov/homepage\n"
     ]
    }
   ],
   "source": [
    "print('\\n\\nURLs from the Webpage\\n\\n')\n",
    "\n",
    "all_links = soup.find_all('a')\n",
    "\n",
    "print('Total number of URLs present =', len(all_links))\n",
    "print('\\n\\nLast 5 URLs on the webpage are:\\n\\n')\n",
    "if len(all_links) > 5:\n",
    "    last_5 = all_links[len(all_links)-5:]\n",
    "    for url in last_5 :\n",
    "        print(url.get('href'))"
   ]
  },
  {
   "cell_type": "code",
   "execution_count": 18,
   "metadata": {},
   "outputs": [],
   "source": [
    "emails = []\n",
    "for url in all_links :\n",
    "    if(str(url.get('href')).find('@')>0):\n",
    "        emails.append(url.get('href'))"
   ]
  },
  {
   "cell_type": "code",
   "execution_count": 19,
   "metadata": {},
   "outputs": [
    {
     "name": "stdout",
     "output_type": "stream",
     "text": [
      "\n",
      "\n",
      "Some email addresses are: \n",
      "\n",
      "\n",
      "mailto:john.abbott@ncparks.gov\n",
      "mailto:jabel@ncdot.gov\n",
      "mailto:ryan.absher@ncdps.gov\n",
      "mailto:john.acevedo@dhhs.nc.gov\n",
      "mailto:john.adam@ncdps.gov\n",
      "mailto:djadams@ncdot.gov\n",
      "mailto:bryantadams@ncdot.gov\n",
      "mailto:john.adams@ncparks.gov\n",
      "mailto:oluwaseyi.ajayi@dhhs.nc.gov\n",
      "mailto:john.w.akins@nccourts.org\n",
      "mailto:john.alexander@nc.gov\n",
      "mailto:john.alford@dhhs.nc.gov\n",
      "mailto:adam.allen@ncdps.gov\n",
      "mailto:chris.almberg@nctreasurer.com\n",
      "mailto:john.alphin@dhhs.nc.gov\n"
     ]
    }
   ],
   "source": [
    "print('\\n\\nSome email addresses are: \\n\\n')\n",
    "for email in emails[:15]:\n",
    "    print(email)"
   ]
  }
 ],
 "metadata": {
  "kernelspec": {
   "display_name": "Python 3",
   "language": "python",
   "name": "python3"
  },
  "language_info": {
   "codemirror_mode": {
    "name": "ipython",
    "version": 3
   },
   "file_extension": ".py",
   "mimetype": "text/x-python",
   "name": "python",
   "nbconvert_exporter": "python",
   "pygments_lexer": "ipython3",
   "version": "3.7.4"
  }
 },
 "nbformat": 4,
 "nbformat_minor": 2
}
